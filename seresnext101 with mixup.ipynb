{
  "nbformat": 4,
  "nbformat_minor": 0,
  "metadata": {
    "colab": {
      "name": "black_Resnext101 (1).ipynb",
      "provenance": [],
      "collapsed_sections": [],
      "machine_shape": "hm"
    },
    "kernelspec": {
      "name": "python3",
      "display_name": "Python 3"
    },
    "accelerator": "GPU"
  },
  "cells": [
    {
      "cell_type": "code",
      "metadata": {
        "id": "c1tZo5szaslQ",
        "colab_type": "code",
        "outputId": "17f869fc-7dae-4458-aef6-cc91e73db0c6",
        "colab": {
          "base_uri": "https://localhost:8080/",
          "height": 120
        }
      },
      "source": [
        "from google.colab import drive\n",
        "drive.mount('/content/drive')"
      ],
      "execution_count": 1,
      "outputs": [
        {
          "output_type": "stream",
          "text": [
            "Go to this URL in a browser: https://accounts.google.com/o/oauth2/auth?client_id=947318989803-6bn6qk8qdgf4n4g3pfee6491hc0brc4i.apps.googleusercontent.com&redirect_uri=urn%3aietf%3awg%3aoauth%3a2.0%3aoob&response_type=code&scope=email%20https%3a%2f%2fwww.googleapis.com%2fauth%2fdocs.test%20https%3a%2f%2fwww.googleapis.com%2fauth%2fdrive%20https%3a%2f%2fwww.googleapis.com%2fauth%2fdrive.photos.readonly%20https%3a%2f%2fwww.googleapis.com%2fauth%2fpeopleapi.readonly\n",
            "\n",
            "Enter your authorization code:\n",
            "··········\n",
            "Mounted at /content/drive\n"
          ],
          "name": "stdout"
        }
      ]
    },
    {
      "cell_type": "code",
      "metadata": {
        "id": "Rs1Sjzb9bJ_H",
        "colab_type": "code",
        "outputId": "e4db6db4-e78b-46aa-a236-2818b058d0a0",
        "colab": {
          "base_uri": "https://localhost:8080/",
          "height": 689
        }
      },
      "source": [
        "!pip install albumentations==0.4.3"
      ],
      "execution_count": 2,
      "outputs": [
        {
          "output_type": "stream",
          "text": [
            "Collecting albumentations==0.4.3\n",
            "\u001b[?25l  Downloading https://files.pythonhosted.org/packages/f6/c4/a1e6ac237b5a27874b01900987d902fe83cc469ebdb09eb72a68c4329e78/albumentations-0.4.3.tar.gz (3.2MB)\n",
            "\u001b[K     |████████████████████████████████| 3.2MB 4.6MB/s \n",
            "\u001b[?25hRequirement already satisfied: numpy>=1.11.1 in /usr/local/lib/python3.6/dist-packages (from albumentations==0.4.3) (1.17.5)\n",
            "Requirement already satisfied: scipy in /usr/local/lib/python3.6/dist-packages (from albumentations==0.4.3) (1.4.1)\n",
            "Collecting imgaug<0.2.7,>=0.2.5\n",
            "\u001b[?25l  Downloading https://files.pythonhosted.org/packages/ad/2e/748dbb7bb52ec8667098bae9b585f448569ae520031932687761165419a2/imgaug-0.2.6.tar.gz (631kB)\n",
            "\u001b[K     |████████████████████████████████| 634kB 31.5MB/s \n",
            "\u001b[?25hRequirement already satisfied: PyYAML in /usr/local/lib/python3.6/dist-packages (from albumentations==0.4.3) (3.13)\n",
            "Requirement already satisfied: opencv-python>=4.1.1 in /usr/local/lib/python3.6/dist-packages (from albumentations==0.4.3) (4.1.2.30)\n",
            "Requirement already satisfied: scikit-image>=0.11.0 in /usr/local/lib/python3.6/dist-packages (from imgaug<0.2.7,>=0.2.5->albumentations==0.4.3) (0.16.2)\n",
            "Requirement already satisfied: six in /usr/local/lib/python3.6/dist-packages (from imgaug<0.2.7,>=0.2.5->albumentations==0.4.3) (1.12.0)\n",
            "Requirement already satisfied: networkx>=2.0 in /usr/local/lib/python3.6/dist-packages (from scikit-image>=0.11.0->imgaug<0.2.7,>=0.2.5->albumentations==0.4.3) (2.4)\n",
            "Requirement already satisfied: pillow>=4.3.0 in /usr/local/lib/python3.6/dist-packages (from scikit-image>=0.11.0->imgaug<0.2.7,>=0.2.5->albumentations==0.4.3) (6.2.2)\n",
            "Requirement already satisfied: imageio>=2.3.0 in /usr/local/lib/python3.6/dist-packages (from scikit-image>=0.11.0->imgaug<0.2.7,>=0.2.5->albumentations==0.4.3) (2.4.1)\n",
            "Requirement already satisfied: PyWavelets>=0.4.0 in /usr/local/lib/python3.6/dist-packages (from scikit-image>=0.11.0->imgaug<0.2.7,>=0.2.5->albumentations==0.4.3) (1.1.1)\n",
            "Requirement already satisfied: matplotlib!=3.0.0,>=2.0.0 in /usr/local/lib/python3.6/dist-packages (from scikit-image>=0.11.0->imgaug<0.2.7,>=0.2.5->albumentations==0.4.3) (3.1.3)\n",
            "Requirement already satisfied: decorator>=4.3.0 in /usr/local/lib/python3.6/dist-packages (from networkx>=2.0->scikit-image>=0.11.0->imgaug<0.2.7,>=0.2.5->albumentations==0.4.3) (4.4.1)\n",
            "Requirement already satisfied: pyparsing!=2.0.4,!=2.1.2,!=2.1.6,>=2.0.1 in /usr/local/lib/python3.6/dist-packages (from matplotlib!=3.0.0,>=2.0.0->scikit-image>=0.11.0->imgaug<0.2.7,>=0.2.5->albumentations==0.4.3) (2.4.6)\n",
            "Requirement already satisfied: python-dateutil>=2.1 in /usr/local/lib/python3.6/dist-packages (from matplotlib!=3.0.0,>=2.0.0->scikit-image>=0.11.0->imgaug<0.2.7,>=0.2.5->albumentations==0.4.3) (2.6.1)\n",
            "Requirement already satisfied: kiwisolver>=1.0.1 in /usr/local/lib/python3.6/dist-packages (from matplotlib!=3.0.0,>=2.0.0->scikit-image>=0.11.0->imgaug<0.2.7,>=0.2.5->albumentations==0.4.3) (1.1.0)\n",
            "Requirement already satisfied: cycler>=0.10 in /usr/local/lib/python3.6/dist-packages (from matplotlib!=3.0.0,>=2.0.0->scikit-image>=0.11.0->imgaug<0.2.7,>=0.2.5->albumentations==0.4.3) (0.10.0)\n",
            "Requirement already satisfied: setuptools in /usr/local/lib/python3.6/dist-packages (from kiwisolver>=1.0.1->matplotlib!=3.0.0,>=2.0.0->scikit-image>=0.11.0->imgaug<0.2.7,>=0.2.5->albumentations==0.4.3) (45.1.0)\n",
            "Building wheels for collected packages: albumentations, imgaug\n",
            "  Building wheel for albumentations (setup.py) ... \u001b[?25l\u001b[?25hdone\n",
            "  Created wheel for albumentations: filename=albumentations-0.4.3-cp36-none-any.whl size=60764 sha256=e4c23a6765f0c85da45d57601346e1e7b6b9e1ee1943df7f105e6b1478f6b09a\n",
            "  Stored in directory: /root/.cache/pip/wheels/20/16/8e/d3bec34bf30adff30929226f0b83cc8c005b5af131f51db9d0\n",
            "  Building wheel for imgaug (setup.py) ... \u001b[?25l\u001b[?25hdone\n",
            "  Created wheel for imgaug: filename=imgaug-0.2.6-cp36-none-any.whl size=654020 sha256=55d5a71deaa7a9d84cbe70d9f6dac4120a5cbe4454a8a28ed6ba8a4f6cc94bd5\n",
            "  Stored in directory: /root/.cache/pip/wheels/97/ec/48/0d25896c417b715af6236dbcef8f0bed136a1a5e52972fc6d0\n",
            "Successfully built albumentations imgaug\n",
            "Installing collected packages: imgaug, albumentations\n",
            "  Found existing installation: imgaug 0.2.9\n",
            "    Uninstalling imgaug-0.2.9:\n",
            "      Successfully uninstalled imgaug-0.2.9\n",
            "  Found existing installation: albumentations 0.1.12\n",
            "    Uninstalling albumentations-0.1.12:\n",
            "      Successfully uninstalled albumentations-0.1.12\n",
            "Successfully installed albumentations-0.4.3 imgaug-0.2.6\n"
          ],
          "name": "stdout"
        }
      ]
    },
    {
      "cell_type": "code",
      "metadata": {
        "id": "9kPSwISobRVD",
        "colab_type": "code",
        "colab": {}
      },
      "source": [
        "from __future__ import print_function, division, absolute_import\n",
        "import numpy as np # linear algebra\n",
        "import pandas as pd # data processing, CSV file I/O (e.g. pd.read_csv)\n",
        "import torch.nn.functional as F\n",
        "import os\n",
        "import cv2\n",
        "\n",
        "# Any results you write to the current directory are saved as output.\n",
        "import torch\n",
        "import torch.nn as nn\n",
        "from torch.utils.data import Dataset,DataLoader\n",
        "from torchvision import transforms,models\n",
        "from tqdm import tqdm_notebook as tqdm\n",
        "import math\n",
        "import torch.utils.model_zoo as model_zoo\n",
        "\n",
        "from PIL import Image, ImageOps, ImageEnhance\n",
        "from albumentations.core.transforms_interface import ImageOnlyTransform\n",
        "\n",
        "from albumentations import (\n",
        "    PadIfNeeded,\n",
        "    GaussianBlur,\n",
        "    Flip,\n",
        "    HorizontalFlip,\n",
        "    Transpose,\n",
        "    VerticalFlip,    \n",
        "    CenterCrop,    \n",
        "    Crop,\n",
        "    Compose,\n",
        "    Transpose,\n",
        "    RandomRotate90,\n",
        "    ElasticTransform,\n",
        "    GridDistortion, \n",
        "    OpticalDistortion,\n",
        "    RandomSizedCrop,\n",
        "    OneOf,\n",
        "    CLAHE,\n",
        "    Rotate,\n",
        "    RandomBrightnessContrast,    \n",
        "    RandomGamma,\n",
        "    ShiftScaleRotate ,\n",
        "    GaussNoise,\n",
        "    Blur,\n",
        "    MotionBlur\n",
        ")\n",
        "my_size = 128"
      ],
      "execution_count": 0,
      "outputs": []
    },
    {
      "cell_type": "code",
      "metadata": {
        "id": "xXv3_H3H8FPi",
        "colab_type": "code",
        "colab": {}
      },
      "source": [
        "class Cutout:\n",
        "    def __init__(self, mask_size, p, cutout_inside, mask_color=1):\n",
        "        self.p = p\n",
        "        self.mask_size = mask_size\n",
        "        self.cutout_inside = cutout_inside\n",
        "        self.mask_color = mask_color\n",
        "\n",
        "        self.mask_size_half = mask_size // 2\n",
        "        self.offset = 1 if mask_size % 2 == 0 else 0\n",
        "\n",
        "    def __call__(self, image):\n",
        "        image = np.asarray(image).copy()\n",
        "\n",
        "        if np.random.random() > self.p:\n",
        "            return image\n",
        "\n",
        "        h, w = image.shape[:2]\n",
        "\n",
        "        if self.cutout_inside:\n",
        "            cxmin, cxmax = self.mask_size_half, w + self.offset - self.mask_size_half\n",
        "            cymin, cymax = self.mask_size_half, h + self.offset - self.mask_size_half\n",
        "        else:\n",
        "            cxmin, cxmax = 0, w + self.offset\n",
        "            cymin, cymax = 0, h + self.offset\n",
        "\n",
        "        cx = np.random.randint(cxmin, cxmax)\n",
        "        cy = np.random.randint(cymin, cymax)\n",
        "        xmin = cx - self.mask_size_half\n",
        "        ymin = cy - self.mask_size_half\n",
        "        xmax = xmin + self.mask_size\n",
        "        ymax = ymin + self.mask_size\n",
        "        xmin = max(0, xmin)\n",
        "        ymin = max(0, ymin)\n",
        "        xmax = min(w, xmax)\n",
        "        ymax = min(h, ymax)\n",
        "        image[ymin:ymax, xmin:xmax] = self.mask_color\n",
        "        return image\n",
        "\n",
        "\n",
        "class DualCutout:\n",
        "    def __init__(self, mask_size, p, cutout_inside, mask_color=1):\n",
        "        self.cutout = Cutout(mask_size, p, cutout_inside, mask_color)\n",
        "\n",
        "    def __call__(self, image):\n",
        "        return np.hstack([self.cutout(image), self.cutout(image)])\n",
        "\n",
        "\n",
        "class DualCutoutCriterion:\n",
        "    def __init__(self, alpha):\n",
        "        self.alpha = alpha\n",
        "        self.criterion = nn.CrossEntropyLoss(reduction='mean')\n",
        "\n",
        "    def __call__(self, preds, targets):\n",
        "        preds1, preds2 = preds\n",
        "        return (self.criterion(preds1, targets) + self.criterion(\n",
        "            preds2, targets)) * 0.5 + self.alpha * F.mse_loss(preds1, preds2)\n",
        "\n",
        "\n",
        "def mixup(data, targets, alpha, n_classes):\n",
        "    indices = torch.randperm(data.size(0))\n",
        "    shuffled_data = data[indices]\n",
        "    shuffled_targets = targets[indices]\n",
        "\n",
        "    lam = np.random.beta(alpha, alpha)\n",
        "    data = data * lam + shuffled_data * (1 - lam)\n",
        "    targets = (targets, shuffled_targets, lam)\n",
        "\n",
        "    return data, targets\n",
        "\n",
        "\n",
        "def mixup_criterion(preds, targets):\n",
        "    targets1, targets2, lam = targets\n",
        "    criterion = nn.CrossEntropyLoss(reduction='mean')\n",
        "    return lam * criterion(preds, targets1) + (1 - lam) * criterion(\n",
        "        preds, targets2)\n",
        "    \n",
        "\n",
        "\n",
        "class RandomErasing:\n",
        "    def __init__(self, p, area_ratio_range, min_aspect_ratio, max_attempt):\n",
        "        self.p = p\n",
        "        self.max_attempt = max_attempt\n",
        "        self.sl, self.sh = area_ratio_range\n",
        "        self.rl, self.rh = min_aspect_ratio, 1. / min_aspect_ratio\n",
        "\n",
        "    def __call__(self, image):\n",
        "        image = np.asarray(image).copy()\n",
        "\n",
        "        if np.random.random() > self.p:\n",
        "            return image\n",
        "\n",
        "        h, w = image.shape[:2]\n",
        "        image_area = h * w\n",
        "\n",
        "        for _ in range(self.max_attempt):\n",
        "            mask_area = np.random.uniform(self.sl, self.sh) * image_area\n",
        "            aspect_ratio = np.random.uniform(self.rl, self.rh)\n",
        "            mask_h = int(np.sqrt(mask_area * aspect_ratio))\n",
        "            mask_w = int(np.sqrt(mask_area / aspect_ratio))\n",
        "\n",
        "            if mask_w < w and mask_h < h:\n",
        "                x0 = np.random.randint(0, w - mask_w)\n",
        "                y0 = np.random.randint(0, h - mask_h)\n",
        "                x1 = x0 + mask_w\n",
        "                y1 = y0 + mask_h\n",
        "                image[y0:y1, x0:x1] = np.random.uniform(0, 1)\n",
        "                break\n",
        "        return image  "
      ],
      "execution_count": 0,
      "outputs": []
    },
    {
      "cell_type": "code",
      "metadata": {
        "id": "x2TqIEwFbRi6",
        "colab_type": "code",
        "colab": {}
      },
      "source": [
        "train_aug = Compose([ \n",
        "    ShiftScaleRotate(p=1,border_mode=cv2.BORDER_CONSTANT,value =1),\n",
        "    OneOf([\n",
        "        GridDistortion(distort_limit =0.05 ,border_mode=cv2.BORDER_CONSTANT,value =1, p=0.1),\n",
        "        OpticalDistortion(p=0.1, distort_limit= 0.05, shift_limit=0.2,border_mode=cv2.BORDER_CONSTANT,value =1)                  \n",
        "        ], p=0.3),\n",
        "    OneOf([\n",
        "        Blur(),\n",
        "        GaussianBlur(blur_limit=3)\n",
        "        ], p=0.4),    \n",
        "    RandomGamma(p=0.5)])"
      ],
      "execution_count": 0,
      "outputs": []
    },
    {
      "cell_type": "code",
      "metadata": {
        "id": "qmq_HfHWb0Vw",
        "colab_type": "code",
        "colab": {}
      },
      "source": [
        "class ToTensor:\n",
        "    def __call__(self, data):\n",
        "        if isinstance(data, tuple):\n",
        "            return tuple([self._to_tensor(image) for image in data])\n",
        "        else:\n",
        "            return self._to_tensor(data)\n",
        "\n",
        "    def _to_tensor(self, data):\n",
        "        if len(data.shape) == 3:\n",
        "            return torch.from_numpy(data.transpose(2, 0, 1).astype(np.float32))\n",
        "        else:\n",
        "            return torch.from_numpy(data[None, :, :].astype(np.float32))\n",
        "\n",
        "\n",
        "class Normalize:\n",
        "    def __init__(self, mean, std):\n",
        "        self.mean = np.array(mean)\n",
        "        self.std = np.array(std)\n",
        "\n",
        "    def __call__(self, image):\n",
        "        image = np.asarray(image).astype(np.float32) / 255.\n",
        "        image = (image - self.mean) / self.std\n",
        "        return image"
      ],
      "execution_count": 0,
      "outputs": []
    },
    {
      "cell_type": "code",
      "metadata": {
        "id": "7XH5debhb0do",
        "colab_type": "code",
        "colab": {}
      },
      "source": [
        "class Selayer(nn.Module):\n",
        "\n",
        "    def __init__(self, inplanes):\n",
        "        super(Selayer, self).__init__()\n",
        "        self.global_avgpool = nn.AdaptiveAvgPool2d(1)\n",
        "        self.conv1 = nn.Conv2d(inplanes, int(inplanes / 16), kernel_size=1, stride=1)\n",
        "        self.conv2 = nn.Conv2d(int(inplanes / 16), inplanes, kernel_size=1, stride=1)\n",
        "        self.relu = nn.ReLU(inplace=True)\n",
        "        self.sigmoid = nn.Sigmoid()\n",
        "\n",
        "    def forward(self, x):\n",
        "\n",
        "        out = self.global_avgpool(x)\n",
        "\n",
        "        out = self.conv1(out)\n",
        "        out = self.relu(out)\n",
        "\n",
        "        out = self.conv2(out)\n",
        "        out = self.sigmoid(out)\n",
        "\n",
        "        return x * out\n",
        "\n",
        "\n",
        "class Bottleneck(nn.Module):\n",
        "    expansion = 4\n",
        "\n",
        "    def __init__(self, inplanes, planes, cardinality, stride=1, downsample=None):\n",
        "        super(Bottleneck, self).__init__()\n",
        "        self.conv1 = nn.Conv2d(inplanes, planes * 2, kernel_size=1, bias=False)\n",
        "        self.bn1 = nn.BatchNorm2d(planes * 2)\n",
        "\n",
        "        self.conv2 = nn.Conv2d(planes * 2, planes * 2, kernel_size=3, stride=stride,\n",
        "                               padding=1, groups=cardinality, bias=False)\n",
        "        self.bn2 = nn.BatchNorm2d(planes * 2)\n",
        "\n",
        "        self.conv3 = nn.Conv2d(planes * 2, planes * 4, kernel_size=1, bias=False)\n",
        "        self.bn3 = nn.BatchNorm2d(planes * 4)\n",
        "\n",
        "        self.selayer = Selayer(planes * 4)\n",
        "\n",
        "        self.relu = nn.ReLU(inplace=True)\n",
        "        self.downsample = downsample\n",
        "        self.stride = stride\n",
        "\n",
        "    def forward(self, x):\n",
        "        residual = x\n",
        "\n",
        "        out = self.conv1(x)\n",
        "        out = self.bn1(out)\n",
        "        out = self.relu(out)\n",
        "\n",
        "        out = self.conv2(out)\n",
        "        out = self.bn2(out)\n",
        "        out = self.relu(out)\n",
        "\n",
        "        out = self.conv3(out)\n",
        "        out = self.bn3(out)\n",
        "\n",
        "        out = self.selayer(out)\n",
        "\n",
        "        if self.downsample is not None:\n",
        "            residual = self.downsample(x)\n",
        "\n",
        "        out += residual\n",
        "        out = self.relu(out)\n",
        "\n",
        "        return out\n",
        "\n",
        "\n",
        "class SeResNeXt(nn.Module):\n",
        "\n",
        "    def __init__(self, block, layers, cardinality=32, num_classes=1000):\n",
        "        super(SeResNeXt, self).__init__()\n",
        "        self.cardinality = cardinality\n",
        "        self.inplanes = 64\n",
        "\n",
        "        self.conv1 = nn.Conv2d(1, 64, kernel_size=7, stride=2, padding=3,\n",
        "                               bias=False)\n",
        "        self.bn1 = nn.BatchNorm2d(64)\n",
        "        self.relu = nn.ReLU(inplace=True)\n",
        "        self.maxpool = nn.MaxPool2d(kernel_size=3, stride=2, padding=1)\n",
        "\n",
        "        self.layer1 = self._make_layer(block, 64, layers[0])\n",
        "        self.layer2 = self._make_layer(block, 128, layers[1], stride=2)\n",
        "        self.layer3 = self._make_layer(block, 256, layers[2], stride=2)\n",
        "        self.layer4 = self._make_layer(block, 512, layers[3], stride=2)\n",
        "\n",
        "        self.avgpool = nn.AdaptiveAvgPool2d(1)\n",
        "        self.fc = nn.Linear(512 * block.expansion, num_classes)\n",
        "\n",
        "        for m in self.modules():\n",
        "            if isinstance(m, nn.Conv2d):\n",
        "                n = m.kernel_size[0] * m.kernel_size[1] * m.out_channels\n",
        "                m.weight.data.normal_(0, math.sqrt(2. / n))\n",
        "                if m.bias is not None:\n",
        "                    m.bias.data.zero_()\n",
        "            elif isinstance(m, nn.BatchNorm2d):\n",
        "                m.weight.data.fill_(1)\n",
        "                m.bias.data.zero_()\n",
        "\n",
        "    def _make_layer(self, block, planes, blocks, stride=1):\n",
        "        downsample = None\n",
        "        if stride != 1 or self.inplanes != planes * block.expansion:\n",
        "            downsample = nn.Sequential(\n",
        "                nn.Conv2d(self.inplanes, planes * block.expansion,\n",
        "                          kernel_size=1, stride=stride, bias=False),\n",
        "                nn.BatchNorm2d(planes * block.expansion),\n",
        "            )\n",
        "\n",
        "        layers = []\n",
        "        layers.append(block(self.inplanes, planes, self.cardinality, stride, downsample))\n",
        "        self.inplanes = planes * block.expansion\n",
        "        for i in range(1, blocks):\n",
        "            layers.append(block(self.inplanes, planes, self.cardinality))\n",
        "                             \n",
        "        # vowel_diacritic\n",
        "        self.fc1 = nn.Linear(2048,11)\n",
        "        # grapheme_root\n",
        "        self.fc2 = nn.Linear(2048,168)\n",
        "        # consonant_diacritic\n",
        "        self.fc3 = nn.Linear(2048,7)\n",
        "        return nn.Sequential(*layers)\n",
        "        \n",
        "\n",
        "    def forward(self, x):\n",
        "        x = self.conv1(x)\n",
        "        x = self.bn1(x)\n",
        "        x = self.relu(x)\n",
        "        x = self.maxpool(x)\n",
        "\n",
        "        x = self.layer1(x)\n",
        "        x = self.layer2(x)\n",
        "        x = self.layer3(x)\n",
        "        x = self.layer4(x)\n",
        "\n",
        "        x = self.avgpool(x)\n",
        "        x = x.view(x.size(0), -1)\n",
        "        \n",
        "        x1 = self.fc1(x)\n",
        "        x2 = self.fc2(x)\n",
        "        x3 = self.fc3(x)\n",
        "        \n",
        "        return x1,x2,x3\n",
        "\n",
        "\n",
        "def se_resnext50(**kwargs):\n",
        "    \"\"\"Constructs a SeResNeXt-50 model.\n",
        "    Args:\n",
        "        pretrained (bool): If True, returns a model pre-trained on ImageNet\n",
        "    \"\"\"\n",
        "    model = SeResNeXt(Bottleneck, [3, 4, 6, 3], **kwargs)\n",
        "    return model\n",
        "\n",
        "\n",
        "def se_resnext101(**kwargs):\n",
        "    \"\"\"Constructs a SeResNeXt-101 model.\n",
        "    Args:\n",
        "        pretrained (bool): If True, returns a model pre-trained on ImageNet\n",
        "    \"\"\"\n",
        "    model = SeResNeXt(Bottleneck, [3, 4, 23, 3], **kwargs)\n",
        "    return model\n",
        "\n",
        "\n",
        "def se_resnext152(**kwargs):\n",
        "    \"\"\"Constructs a SeResNeXt-152 model.\n",
        "    Args:\n",
        "        pretrained (bool): If True, returns a model pre-trained on ImageNet\n",
        "    \"\"\"\n",
        "    model = SeResNeXt(Bottleneck, [3, 8, 36, 3], **kwargs)\n",
        "    return model"
      ],
      "execution_count": 0,
      "outputs": []
    },
    {
      "cell_type": "code",
      "metadata": {
        "id": "PJOYU7Jub0go",
        "colab_type": "code",
        "colab": {}
      },
      "source": [
        "train = pd.read_csv('/content/drive/My Drive/nipuyo/train.csv')\n",
        "data0 = pd.read_feather('/content/drive/My Drive/black_128/train_data_00_l.feather')\n",
        "data1 = pd.read_feather('/content/drive/My Drive/black_128/train_data_11_l.feather')\n",
        "data2 = pd.read_feather('/content/drive/My Drive/black_128/train_data_22_l.feather')  \n",
        "data3 = pd.read_feather('/content/drive/My Drive/black_128/train_data_33_l.feather')"
      ],
      "execution_count": 0,
      "outputs": []
    },
    {
      "cell_type": "code",
      "metadata": {
        "id": "cKQODstTbRlt",
        "colab_type": "code",
        "colab": {}
      },
      "source": [
        "data_full = pd.concat([data0,data1,data2,data3],ignore_index=True)\n",
        "del data0,data1,data2,data3"
      ],
      "execution_count": 0,
      "outputs": []
    },
    {
      "cell_type": "code",
      "metadata": {
        "id": "PPK0Avm4c7Ju",
        "colab_type": "code",
        "colab": {}
      },
      "source": [
        "class GraphemeDataset(Dataset):\n",
        "    def __init__(self,df,label,_type='train',transform =True,aug = train_aug):\n",
        "        self.df = df\n",
        "        self.label = label\n",
        "        self.aug = aug\n",
        "        self.transform = transform\n",
        "        self.data = df.iloc[:, 1:].values\n",
        "    def __len__(self):\n",
        "        return len(self.df)\n",
        "    def __getitem__(self,idx):\n",
        "        label1 = self.label.vowel_diacritic.values[idx]\n",
        "        label2 = self.label.grapheme_root.values[idx]\n",
        "        label3 = self.label.consonant_diacritic.values[idx]\n",
        "        image = self.data[idx, :].reshape(my_size,my_size).astype(np.float)\n",
        "        if self.transform: \n",
        "            #out = np.empty((my_size, my_size, 3), dtype=np.uint8)#converting to 3channel image\n",
        "            #out[:, :, 0] = image\n",
        "            #out[:, :, 1] = image\n",
        "            #out[:, :, 2] = image\n",
        "            #print(image.shape)\n",
        "            augment = self.aug(image = image)\n",
        "            image = augment['image']\n",
        "            cutout = Cutout(10,0.3,True,1)\n",
        "            image = cutout(image)\n",
        "        #norm = Normalize([0.0692],[0.2051])\n",
        "        #image = norm(image)\n",
        "        return image,label1,label2,label3"
      ],
      "execution_count": 0,
      "outputs": []
    },
    {
      "cell_type": "code",
      "metadata": {
        "id": "f57kTxZVdFAB",
        "colab_type": "code",
        "colab": {}
      },
      "source": [
        "from sklearn.model_selection import train_test_split\n",
        "train_df , valid_df = train_test_split(train,test_size=0.20, random_state=42,shuffle=True) ## Split Labels\n",
        "data_train_df, data_valid_df = train_test_split(data_full,test_size=0.20, random_state=42,shuffle =True) ## split data"
      ],
      "execution_count": 0,
      "outputs": []
    },
    {
      "cell_type": "code",
      "metadata": {
        "id": "xPOKdqzcdFL1",
        "colab_type": "code",
        "outputId": "482ff176-8fe2-4872-9859-d112e1e8a053",
        "colab": {
          "base_uri": "https://localhost:8080/",
          "height": 33
        }
      },
      "source": [
        "import gc\n",
        "gc.collect()"
      ],
      "execution_count": 12,
      "outputs": [
        {
          "output_type": "execute_result",
          "data": {
            "text/plain": [
              "305"
            ]
          },
          "metadata": {
            "tags": []
          },
          "execution_count": 12
        }
      ]
    },
    {
      "cell_type": "code",
      "metadata": {
        "id": "0hV0GuCVdFPC",
        "colab_type": "code",
        "outputId": "a655306b-0a08-44cd-de1b-93c791474f9f",
        "colab": {
          "base_uri": "https://localhost:8080/",
          "height": 33
        }
      },
      "source": [
        "train_dataset = GraphemeDataset(data_train_df ,train_df,transform = True) \n",
        "valid_dataset = GraphemeDataset(data_valid_df ,valid_df,transform = False) \n",
        "torch.cuda.empty_cache()\n",
        "gc.collect()"
      ],
      "execution_count": 13,
      "outputs": [
        {
          "output_type": "execute_result",
          "data": {
            "text/plain": [
              "0"
            ]
          },
          "metadata": {
            "tags": []
          },
          "execution_count": 13
        }
      ]
    },
    {
      "cell_type": "code",
      "metadata": {
        "id": "HOrS3XaWdFYs",
        "colab_type": "code",
        "colab": {}
      },
      "source": [
        "import matplotlib.pyplot as plt\n",
        "def visualize(original_image,aug_image):\n",
        "    fontsize = 18\n",
        "    f, ax = plt.subplots(1, 2, figsize=(8, 8))\n",
        "    ax[0].imshow(original_image, cmap='gray')\n",
        "    ax[0].set_title('Original image', fontsize=fontsize)\n",
        "    ax[1].imshow(aug_image,cmap='gray')\n",
        "    ax[1].set_title('Augmented image', fontsize=fontsize)"
      ],
      "execution_count": 0,
      "outputs": []
    },
    {
      "cell_type": "code",
      "metadata": {
        "id": "cKcAXBKTdp6z",
        "colab_type": "code",
        "colab": {}
      },
      "source": [
        "orig_image = data_train_df.iloc[0, 1:].values.reshape(128,128).astype(np.float)\n",
        "aug_image = train_dataset[0][0]"
      ],
      "execution_count": 0,
      "outputs": []
    },
    {
      "cell_type": "code",
      "metadata": {
        "id": "yBq-eWCKdxKu",
        "colab_type": "code",
        "outputId": "707625f7-5b59-4a16-9448-8a45ce470b5c",
        "colab": {
          "base_uri": "https://localhost:8080/",
          "height": 271
        }
      },
      "source": [
        "for i in range (1):\n",
        "    aug_image = train_dataset[0][0]\n",
        "    visualize (orig_image,aug_image)"
      ],
      "execution_count": 16,
      "outputs": [
        {
          "output_type": "display_data",
          "data": {
            "image/png": "[encoded data removed]",
            "text/plain": [
              "<Figure size 576x576 with 2 Axes>"
            ]
          },
          "metadata": {
            "tags": []
          }
        }
      ]
    },
    {
      "cell_type": "code",
      "metadata": {
        "id": "POy0B7pNdxWg",
        "colab_type": "code",
        "outputId": "9562b7b7-4104-4787-b18f-d1789bde7e74",
        "colab": {
          "base_uri": "https://localhost:8080/",
          "height": 33
        }
      },
      "source": [
        "del train_df,valid_df,data_train_df,data_valid_df \n",
        "torch.cuda.empty_cache()\n",
        "gc.collect()"
      ],
      "execution_count": 17,
      "outputs": [
        {
          "output_type": "execute_result",
          "data": {
            "text/plain": [
              "4673"
            ]
          },
          "metadata": {
            "tags": []
          },
          "execution_count": 17
        }
      ]
    },
    {
      "cell_type": "code",
      "metadata": {
        "id": "uOWhnIWldxZ0",
        "colab_type": "code",
        "colab": {}
      },
      "source": [
        "batch_size = 32\n",
        "train_loader = torch.utils.data.DataLoader(train_dataset,batch_size=batch_size,shuffle=True)\n",
        "valid_loader = torch.utils.data.DataLoader(valid_dataset,batch_size=batch_size,shuffle=True)"
      ],
      "execution_count": 0,
      "outputs": []
    },
    {
      "cell_type": "code",
      "metadata": {
        "id": "GrZYg1JHeJqU",
        "colab_type": "code",
        "outputId": "f70de8c6-b5e8-49e7-d360-b16caaf3f77c",
        "colab": {
          "base_uri": "https://localhost:8080/",
          "height": 33
        }
      },
      "source": [
        "device = torch.device(\"cuda:0\" if torch.cuda.is_available() else \"cpu\")\n",
        "print(device)\n",
        "model = se_resnext50().to(device)"
      ],
      "execution_count": 19,
      "outputs": [
        {
          "output_type": "stream",
          "text": [
            "cuda:0\n"
          ],
          "name": "stdout"
        }
      ]
    },
    {
      "cell_type": "code",
      "metadata": {
        "id": "RwCgfGtZeJ6I",
        "colab_type": "code",
        "colab": {}
      },
      "source": [
        "optimizer =torch.optim.AdamW(model.parameters(), lr=1e-3)\n",
        "scheduler = torch.optim.lr_scheduler.CosineAnnealingLR(optimizer, 5, 2e-4)\n",
        "#criterion = nn.CrossEntropyLoss()\n",
        "batch_size=32"
      ],
      "execution_count": 0,
      "outputs": []
    },
    {
      "cell_type": "code",
      "metadata": {
        "id": "k_yV0oh93dIH",
        "colab_type": "code",
        "colab": {}
      },
      "source": [
        "def ohem_loss( rate, cls_pred, cls_target ):\n",
        "\n",
        "    batch_size = cls_pred.size(0) \n",
        "    ohem_cls_loss = F.cross_entropy(cls_pred, cls_target, reduction='none', ignore_index=-1)\n",
        "\n",
        "    sorted_ohem_loss, idx = torch.sort(ohem_cls_loss, descending=True)\n",
        "    keep_num = min(sorted_ohem_loss.size()[0], int(batch_size*rate) )\n",
        "    if keep_num < sorted_ohem_loss.size()[0]:\n",
        "        keep_idx_cuda = idx[:keep_num]\n",
        "        ohem_cls_loss = ohem_cls_loss[keep_idx_cuda]\n",
        "    cls_loss = ohem_cls_loss.sum() / keep_num\n",
        "    return cls_loss\n",
        "\n",
        "\n",
        "def rand_bbox(size, lam):\n",
        "    W = size[2]\n",
        "    H = size[3]\n",
        "    cut_rat = np.sqrt(1. - lam)\n",
        "    cut_w = np.int(W * cut_rat)\n",
        "    cut_h = np.int(H * cut_rat)\n",
        "\n",
        "    # uniform\n",
        "    cx = np.random.randint(W)\n",
        "    cy = np.random.randint(H)\n",
        "\n",
        "    bbx1 = np.clip(cx - cut_w // 2, 0, W)\n",
        "    bby1 = np.clip(cy - cut_h // 2, 0, H)\n",
        "    bbx2 = np.clip(cx + cut_w // 2, 0, W)\n",
        "    bby2 = np.clip(cy + cut_h // 2, 0, H)\n",
        "\n",
        "    return bbx1, bby1, bbx2, bby2\n",
        "def cutmix(data, targets1, targets2, targets3, alpha):\n",
        "    indices = torch.randperm(data.size(0))\n",
        "    shuffled_data = data[indices]\n",
        "    shuffled_targets1 = targets1[indices]\n",
        "    shuffled_targets2 = targets2[indices]\n",
        "    shuffled_targets3 = targets3[indices]\n",
        "\n",
        "    lam = np.random.beta(alpha, alpha)\n",
        "    bbx1, bby1, bbx2, bby2 = rand_bbox(data.size(), lam)\n",
        "    data[:, :, bbx1:bbx2, bby1:bby2] = data[indices, :, bbx1:bbx2, bby1:bby2]\n",
        "    # adjust lambda to exactly match pixel ratio\n",
        "    lam = 1 - ((bbx2 - bbx1) * (bby2 - bby1) / (data.size()[-1] * data.size()[-2]))\n",
        "\n",
        "    targets = [targets1, shuffled_targets1, targets2, shuffled_targets2, targets3, shuffled_targets3, lam]\n",
        "    return data, targets\n",
        "# loss \n",
        "def cutmix_criterion(preds1,preds2,preds3, targets, rate=0.7):\n",
        "    targets1, targets2,targets3, targets4,targets5, targets6, lam = targets[0], targets[1], targets[2], targets[3], targets[4], targets[5], targets[6]\n",
        "    criterion = nn.CrossEntropyLoss(reduction='mean')\n",
        "    #criterion = ohem_loss\n",
        "    lo1 = lam * criterion(preds1, targets1) + (1 - lam) * criterion(preds1, targets2)\n",
        "    lo2 = lam * criterion(preds2, targets3) + (1 - lam) * criterion(preds2, targets4)\n",
        "    lo3 = lam * criterion(preds3, targets5) + (1 - lam) * criterion(preds3, targets6)\n",
        "    return lo1,lo2,lo3\n",
        "\n",
        "\n",
        "def mixup(data, targets1, targets2, targets3, alpha):\n",
        "    indices = torch.randperm(data.size(0))\n",
        "    shuffled_data = data[indices]\n",
        "    shuffled_targets1 = targets1[indices]\n",
        "    shuffled_targets2 = targets2[indices]\n",
        "    shuffled_targets3 = targets3[indices]\n",
        "\n",
        "    lam = np.random.beta(alpha, alpha)\n",
        "    data = data * lam + shuffled_data * (1 - lam)\n",
        "    targets = [targets1, shuffled_targets1, targets2, shuffled_targets2, targets3, shuffled_targets3, lam]\n",
        "\n",
        "    return data, targets\n",
        "\n",
        "\n",
        "def mixup_criterion(preds1,preds2,preds3, targets, rate=0.7):\n",
        "    targets1, targets2,targets3, targets4,targets5, targets6, lam = targets[0], targets[1], targets[2], targets[3], targets[4], targets[5], targets[6]\n",
        "    criterion = nn.CrossEntropyLoss(reduction='mean')\n",
        "    #criterion = ohem_loss\n",
        "    lo1 = lam * criterion(preds1, targets1) + (1 - lam) * criterion(preds1, targets2)\n",
        "    lo2 = lam * criterion(preds2, targets3) + (1 - lam) * criterion(preds2, targets4)\n",
        "    lo3 = lam * criterion(preds3, targets5) + (1 - lam) * criterion(preds3, targets6)\n",
        "    return  lo1,lo2,lo3 \n",
        "    #return [ lam * criterion(rate, preds1, targets1) + (1 - lam) * criterion(rate, preds1, targets2), lam * criterion(rate, preds2, targets3) + (1 - lam) * criterion(rate, preds2, targets4), lam * criterion(rate, preds3, targets5) + (1 - lam) * criterion(rate, preds3, targets6) ]"
      ],
      "execution_count": 0,
      "outputs": []
    },
    {
      "cell_type": "code",
      "metadata": {
        "id": "UfJQNzxheJ9h",
        "colab_type": "code",
        "colab": {}
      },
      "source": [
        "import numpy\n",
        "def train(epoch):\n",
        "  model.train()\n",
        "  losses = []\n",
        "  accs = []\n",
        "  acc= 0.0\n",
        "  total = 0.0\n",
        "  running_loss = 0.0\n",
        "  running_acc = 0.0\n",
        "  val_now_acc = 0.0\n",
        "  for idx, (inputs,labels1,labels2,labels3) in enumerate(train_loader):\n",
        "      inputs = inputs.to(device)\n",
        "      labels1 = labels1.to(device)\n",
        "      labels2 = labels2.to(device)\n",
        "      labels3 = labels3.to(device)\n",
        "      total += len(inputs)\n",
        "      optimizer.zero_grad()\n",
        "      inputs, targets = mixup(inputs, labels1, labels2, labels3, 0.4)\n",
        "      outputs1, outputs2, outputs3 = model(inputs.unsqueeze(1).float())\n",
        "      loss1,loss2,loss3 = mixup_criterion(outputs1,outputs2,outputs3, targets) \n",
        "\n",
        "      running_loss += loss1.item()+loss2.item()+loss3.item()\n",
        "      running_acc += (outputs1.argmax(1)==labels1).float().mean()\n",
        "      running_acc += (outputs2.argmax(1)==labels2).float().mean()\n",
        "      running_acc += (outputs3.argmax(1)==labels3).float().mean()\n",
        "      (loss1+loss2+loss3).backward()\n",
        "      optimizer.step()\n",
        "      acc = running_acc/total\n",
        "      #scheduler.step()\n",
        "  \n",
        "  losses.append(running_loss/len(train_loader))\n",
        "  accs.append(running_acc/(len(train_loader)*3))\n",
        "  print(' train epoch : {}\\tacc : {:.2f}%'.format(epoch,running_acc/(len(train_loader)*3)))\n",
        "  print('loss : {:.4f}'.format(running_loss/len(train_loader)))\n",
        "  torch.save(model.state_dict(), 'resnext.pth') ## Saving model weights\n",
        "  torch.cuda.empty_cache()\n",
        "  gc.collect()\n",
        "  return losses , accs\n",
        "    \n",
        "def evaluate(epoch):\n",
        "   model.eval()\n",
        "   losses = []\n",
        "   accs = []\n",
        "   acc= 0.0\n",
        "   total = 0.0\n",
        "   #print('epochs {}/{} '.format(epoch+1,epochs))\n",
        "   running_loss = 0.0\n",
        "   running_acc = 0.0\n",
        "   with torch.no_grad():\n",
        "     for idx, (inputs,labels1,labels2,labels3) in enumerate(valid_loader):\n",
        "        inputs = inputs.to(device)\n",
        "        labels1 = labels1.to(device)\n",
        "        labels2 = labels2.to(device)\n",
        "        labels3 = labels3.to(device)\n",
        "        total += len(inputs)\n",
        "        inputs, targets = mixup(inputs, labels1, labels2, labels3, 0.4)\n",
        "        outputs1,outputs2,outputs3 = model(inputs.unsqueeze(1).float())\n",
        "        loss1_val,loss2_val,loss3_val = mixup_criterion(outputs1,outputs2,outputs3, targets)  \n",
        "\n",
        "        running_loss += loss1_val.item()+loss2_val.item()+loss3_val.item()\n",
        "        running_acc += (outputs1.argmax(1)==labels1).float().mean()\n",
        "        running_acc += (outputs2.argmax(1)==labels2).float().mean()\n",
        "        running_acc += (outputs3.argmax(1)==labels3).float().mean()\n",
        "      \n",
        "        acc = running_acc/total\n",
        "        #scheduler.step()\n",
        "         \n",
        "   losses.append(running_loss/len(valid_loader))\n",
        "   accs.append(running_acc/(len(valid_loader)*3))\n",
        "   print('val epoch: {} \\tval acc : {:.2f}%'.format(epoch,running_acc/(len(valid_loader)*3)))\n",
        "   print('loss : {:.4f}'.format(running_loss/len(valid_loader)))\n",
        "   val_acc_now = running_acc/(len(valid_loader)*3)\n",
        "   return losses , accs , val_acc_now"
      ],
      "execution_count": 0,
      "outputs": []
    },
    {
      "cell_type": "code",
      "metadata": {
        "id": "UVbQTFpWeKBA",
        "colab_type": "code",
        "colab": {
          "base_uri": "https://localhost:8080/",
          "height": 100
        },
        "outputId": "8a65f2d0-9a97-457c-a23d-21faa1595510"
      },
      "source": [
        "%%time\n",
        "n_epochs = 5\n",
        "best_val_acc = 0.0\n",
        "for epoch in range(n_epochs):\n",
        "    torch.cuda.empty_cache()\n",
        "    gc.collect()\n",
        "    tain_losses,train_accs = train(epoch)\n",
        "    valid_losses,valid_accs,val_acc_now = evaluate(epoch)\n",
        "    if val_acc_now > best_val_acc:\n",
        "      print(f'Validation accuracy has increased from:  {best_val_acc:.4f} to: {val_acc_now:.4f}. Saving checkpoint')\n",
        "      #torch.save(model.state_dict(), '/content/drive/My Drive/black_128/se_resnext101.pth')\n",
        "      best_val_acc = val_acc_now"
      ],
      "execution_count": 0,
      "outputs": [
        {
          "output_type": "stream",
          "text": [
            " train epoch : 0\tacc : 0.57%\n",
            "loss : 2.6576\n",
            "val epoch: 0 \tval acc : 0.58%\n",
            "loss : 2.4926\n",
            "Validation accuracy has increased from:  0.0000 to: 0.5763. Saving checkpoint\n"
          ],
          "name": "stdout"
        }
      ]
    },
    {
      "cell_type": "code",
      "metadata": {
        "id": "QGR3689JLLIP",
        "colab_type": "code",
        "colab": {}
      },
      "source": [
        ""
      ],
      "execution_count": 0,
      "outputs": []
    },
    {
      "cell_type": "code",
      "metadata": {
        "id": "mdHmxbsmeJ3k",
        "colab_type": "code",
        "colab": {}
      },
      "source": [
        "history.to_csv('history.csv')\n",
        "history.head()"
      ],
      "execution_count": 0,
      "outputs": []
    },
    {
      "cell_type": "code",
      "metadata": {
        "id": "DrLe6AZlIKrd",
        "colab_type": "code",
        "colab": {}
      },
      "source": [
        "# Any results you write to the current directory are saved as output.\n",
        "import cv2\n",
        "import torch\n",
        "import torch.nn as nn\n",
        "from torch.utils.data import Dataset,DataLoader\n",
        "from torchvision import transforms,models\n",
        "from tqdm import tqdm_notebook as tqdm"
      ],
      "execution_count": 0,
      "outputs": []
    },
    {
      "cell_type": "code",
      "metadata": {
        "id": "wGtrdRpyIK52",
        "colab_type": "code",
        "colab": {}
      },
      "source": [
        "test = pd.read_csv('/content/drive/My Drive/begali comp/bengaliai-cv19/test.csv')"
      ],
      "execution_count": 0,
      "outputs": []
    },
    {
      "cell_type": "code",
      "metadata": {
        "id": "aiIpfG94IRFo",
        "colab_type": "code",
        "colab": {}
      },
      "source": [
        "class GraphemeDataset(Dataset):\n",
        "    def __init__(self,df,_type='train'):\n",
        "        self.df = df\n",
        "        self.data = df.iloc[:, 1:].values\n",
        "    def __len__(self):\n",
        "        return len(self.df)\n",
        "    def __getitem__(self,idx):\n",
        "        name = self.df.iloc[idx,0]\n",
        "        #image = self.df.iloc[idx][1:].values.reshape(128,128).astype(float)\n",
        "        image = self.data[idx, :].reshape(128,128).astype(np.float)\n",
        "        return image,name"
      ],
      "execution_count": 0,
      "outputs": []
    },
    {
      "cell_type": "code",
      "metadata": {
        "id": "fbMlKz60IRZd",
        "colab_type": "code",
        "colab": {}
      },
      "source": [
        "test_data = ['test_image_data_0.parquet','test_image_data_1.parquet','test_image_data_2.parquet','test_image_data_3.parquet']"
      ],
      "execution_count": 0,
      "outputs": []
    },
    {
      "cell_type": "code",
      "metadata": {
        "id": "2iKwJWnqNn5F",
        "colab_type": "code",
        "colab": {}
      },
      "source": [
        "HEIGHT = 137\n",
        "WIDTH = 236\n",
        "SIZE = 128\n",
        "\n",
        "def bbox(img):\n",
        "    rows = np.any(img, axis=1)\n",
        "    cols = np.any(img, axis=0)\n",
        "    rmin, rmax = np.where(rows)[0][[0, -1]]\n",
        "    cmin, cmax = np.where(cols)[0][[0, -1]]\n",
        "    return rmin, rmax, cmin, cmax\n",
        "\n",
        "def crop_resize(img0, size=SIZE, pad=16):\n",
        "    #crop a box around pixels large than the threshold \n",
        "    #some images contain line at the sides\n",
        "    ymin,ymax,xmin,xmax = bbox(img0[5:-5,5:-5] > 80)\n",
        "    #cropping may cut too much, so we need to add it back\n",
        "    xmin = xmin - 13 if (xmin > 13) else 0\n",
        "    ymin = ymin - 10 if (ymin > 10) else 0\n",
        "    xmax = xmax + 13 if (xmax < WIDTH - 13) else WIDTH\n",
        "    ymax = ymax + 10 if (ymax < HEIGHT - 10) else HEIGHT\n",
        "    img = img0[ymin:ymax,xmin:xmax]\n",
        "    #remove lo intensity pixels as noise\n",
        "    img[img < 28] = 0\n",
        "    lx, ly = xmax-xmin,ymax-ymin\n",
        "    l = max(lx,ly) + pad\n",
        "    #make sure that the aspect ratio is kept in rescaling\n",
        "    img = np.pad(img, [((l-ly)//2,), ((l-lx)//2,)], mode='constant')\n",
        "    return cv2.resize(img,(size,size))\n",
        "\n",
        "def Resize(df,size=128):\n",
        "    resized = {} \n",
        "    df = df.set_index('image_id')\n",
        "    for i in tqdm(range(df.shape[0])):\n",
        "       # image = cv2.resize(df.loc[df.index[i]].values.reshape(137,236),(size,size))\n",
        "        image0 = 255 - df.loc[df.index[i]].values.reshape(137,236).astype(np.uint8)\n",
        "    #normalize each image by its max val\n",
        "        img = (image0*(255.0/image0.max())).astype(np.uint8)\n",
        "        image = crop_resize(img)\n",
        "        resized[df.index[i]] = image.reshape(-1)\n",
        "    resized = pd.DataFrame(resized).T.reset_index()\n",
        "    resized.columns = resized.columns.astype(str)\n",
        "    resized.rename(columns={'index':'image_id'},inplace=True)\n",
        "    return resized"
      ],
      "execution_count": 0,
      "outputs": []
    },
    {
      "cell_type": "code",
      "metadata": {
        "id": "KzgFiHAHIRkQ",
        "colab_type": "code",
        "colab": {}
      },
      "source": [
        "%%time\n",
        "## Inference a little faster using @Iafoss and  @peters technique\n",
        "row_id,target = [],[]\n",
        "for fname in test_data:\n",
        "    data = pd.read_parquet(f'/content/drive/My Drive/begali comp/bengaliai-cv19/{fname}')\n",
        "    data = Resize(data)\n",
        "    test_image = GraphemeDataset(data)\n",
        "    dl = torch.utils.data.DataLoader(test_image,batch_size=128,num_workers=4,shuffle=False)\n",
        "    with torch.no_grad():\n",
        "        for x,y in tqdm(dl):\n",
        "            x = x.unsqueeze(1).float().cuda()\n",
        "            p1,p2,p3 = model(x)\n",
        "            p1 = p1.argmax(-1).view(-1).cpu()\n",
        "            p2 = p2.argmax(-1).view(-1).cpu()\n",
        "            p3 = p3.argmax(-1).view(-1).cpu()\n",
        "            for idx,name in enumerate(y):\n",
        "                row_id += [f'{name}_vowel_diacritic',f'{name}_grapheme_root',\n",
        "                           f'{name}_consonant_diacritic']\n",
        "                target += [p1[idx].item(),p2[idx].item(),p3[idx].item()]\n",
        "                \n",
        "sub_df = pd.DataFrame({'row_id': row_id, 'target': target})\n",
        "sub_df.to_csv('submission.csv', index=False)\n",
        "sub_df"
      ],
      "execution_count": 0,
      "outputs": []
    },
    {
      "cell_type": "code",
      "metadata": {
        "id": "i1gnaNVsNuqD",
        "colab_type": "code",
        "colab": {}
      },
      "source": [
        "sub_df"
      ],
      "execution_count": 0,
      "outputs": []
    }
  ]
}